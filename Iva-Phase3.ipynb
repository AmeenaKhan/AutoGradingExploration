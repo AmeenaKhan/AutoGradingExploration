{
 "cells": [
  {
   "cell_type": "code",
   "execution_count": 65,
   "metadata": {
    "collapsed": false
   },
   "outputs": [
    {
     "name": "stderr",
     "output_type": "stream",
     "text": [
      "/Library/Frameworks/Python.framework/Versions/3.5/lib/python3.5/site-packages/sklearn/cross_validation.py:44: DeprecationWarning: This module was deprecated in version 0.18 in favor of the model_selection module into which all the refactored classes and functions are moved. Also note that the interface of the new CV iterators are different from that of this module. This module will be removed in 0.20.\n",
      "  \"This module will be removed in 0.20.\", DeprecationWarning)\n"
     ]
    }
   ],
   "source": [
    "# required packages\n",
    "import numpy as np\n",
    "import pandas as pd\n",
    "from sklearn import svm\n",
    "from sklearn.model_selection import cross_val_score\n",
    "import scipy as sp\n",
    "import nltk\n",
    "from combined import combined\n",
    "from sklearn.cross_validation import KFold\n",
    "from sklearn.metrics import confusion_matrix, f1_score"
   ]
  },
  {
   "cell_type": "code",
   "execution_count": 2,
   "metadata": {
    "collapsed": false
   },
   "outputs": [
    {
     "name": "stdout",
     "output_type": "stream",
     "text": [
      "adding given scores\n",
      "adding essay set numbers\n",
      "running org\n",
      "running pos\n",
      "running complexity\n"
     ]
    }
   ],
   "source": [
    "#run combined.py on the essays\n",
    "features = combined(\"LRS-training_set_rel3.csv\")"
   ]
  },
  {
   "cell_type": "code",
   "execution_count": 15,
   "metadata": {
    "collapsed": false
   },
   "outputs": [
    {
     "name": "stdout",
     "output_type": "stream",
     "text": [
      "{'complex_short': 0.0, 'pos_nums': 0, 'score': 4.0, 'complex_long': 1.0, 'pos_adjadv': 0.1282798833819242, 'pos_other': 0.4402332361516035, 'pos_verb': 0.20699708454810495, 'set': 1, 'organization': 'medium', 'complex_medium': 0.0, 'pos_noun': 0.22448979591836735, 'pos_pronoun': 0.0}\n"
     ]
    }
   ],
   "source": [
    "print(features[1])\n",
    "#print(features)"
   ]
  },
  {
   "cell_type": "markdown",
   "metadata": {},
   "source": [
    "sklearn's SVM class takes an array X of size [n_samples, n_features] \n",
    "holding the training samples, and an array y of class labels (strings or integers), size [n_samples]\n",
    "http://scikit-learn.org/stable/modules/svm.html\n",
    "so we need to convert the data into this format\n",
    "we also need to split by question set"
   ]
  },
  {
   "cell_type": "code",
   "execution_count": 16,
   "metadata": {
    "collapsed": false
   },
   "outputs": [],
   "source": [
    "#split dataset by question set\n",
    "def split_by_set(features):\n",
    "    \"\"\"Returns a dictionary of sets mapped to a dictionary of essays in the set mapped to a dictionary of their features\"\"\"\n",
    "    set = {}\n",
    "    for k in features:\n",
    "        #print(features[k])\n",
    "        qset = features[k]['set']\n",
    "        #print(k, \" is in set \", qset)\n",
    "        d = {k : features[k]}\n",
    "        if qset in set:\n",
    "            set[qset].update(d)\n",
    "        else:\n",
    "            set.update({qset : d})\n",
    "    return set"
   ]
  },
  {
   "cell_type": "code",
   "execution_count": 22,
   "metadata": {
    "collapsed": false
   },
   "outputs": [
    {
     "name": "stdout",
     "output_type": "stream",
     "text": [
      "{'complex_short': 0.0, 'pos_nums': 0, 'score': 4.0, 'complex_long': 1.0, 'pos_adjadv': 0.1282798833819242, 'pos_other': 0.4402332361516035, 'pos_verb': 0.20699708454810495, 'set': 1, 'organization': 'medium', 'complex_medium': 0.0, 'pos_noun': 0.22448979591836735, 'pos_pronoun': 0.0}\n"
     ]
    }
   ],
   "source": [
    "sets = split_by_set(features)\n",
    "print(sets[1][1])"
   ]
  },
  {
   "cell_type": "code",
   "execution_count": 53,
   "metadata": {
    "collapsed": false
   },
   "outputs": [],
   "source": [
    "def get_set_arrays(setnum):\n",
    "    num_essays = len(set[setnum])\n",
    "    x = []\n",
    "    y = []\n",
    "    i = 0\n",
    "    for e in set[setnum]:\n",
    "        y.append(set[setnum][e]['score'])\n",
    "        x.append([])\n",
    "        for f in set[setnum][e]:\n",
    "            if f != 'score' and f != 'set':\n",
    "                if f == 'organization':\n",
    "                    org_num = 0.0 #low organization\n",
    "                    if set[setnum][e][f] == 'medium':\n",
    "                        org_num = 0.5\n",
    "                    elif set[setnum][e][f] == 'high':\n",
    "                        org_num = 1.0\n",
    "                    #append a number corresponding to the string feature\n",
    "                    x[i].append(org_num)\n",
    "                else:\n",
    "                    x[i].append(set[setnum][e][f])\n",
    "        i += 1\n",
    "    return x, y"
   ]
  },
  {
   "cell_type": "code",
   "execution_count": 54,
   "metadata": {
    "collapsed": false
   },
   "outputs": [],
   "source": [
    "set1_data, set1_scores = get_set_arrays(1)\n",
    "#print(set1_scores)\n",
    "#print(set1_data)"
   ]
  },
  {
   "cell_type": "markdown",
   "metadata": {},
   "source": [
    "BELOW: Running SVM with 10-fold cv, on separate question sets (except set 4), without Amer's vocab features"
   ]
  },
  {
   "cell_type": "code",
   "execution_count": 57,
   "metadata": {
    "collapsed": false
   },
   "outputs": [
    {
     "name": "stdout",
     "output_type": "stream",
     "text": [
      "Set 1 Cross Validation Results:\n",
      "[ 0.53888889  0.53888889  0.52513966  0.51955307  0.50837989  0.51955307\n",
      "  0.52247191  0.53107345  0.53409091  0.51136364]\n"
     ]
    }
   ],
   "source": [
    "# now run SVM with 10-fold cross validation\n",
    "#http://scikit-learn.org/stable/modules/generated/sklearn.model_selection.cross_val_score.html#sklearn.model_selection.cross_val_score\n",
    "clf = svm.SVC()\n",
    "cv_scores1 = cross_val_score(clf, set1_data, set1_scores, cv=10)\n",
    "print(\"Set 1 Cross Validation Results:\")\n",
    "print(cv_scores1)"
   ]
  },
  {
   "cell_type": "code",
   "execution_count": 60,
   "metadata": {
    "collapsed": false
   },
   "outputs": [
    {
     "name": "stderr",
     "output_type": "stream",
     "text": [
      "/Library/Frameworks/Python.framework/Versions/3.5/lib/python3.5/site-packages/sklearn/model_selection/_split.py:579: Warning: The least populated class in y has only 7 members, which is too few. The minimum number of groups for any class cannot be less than n_splits=10.\n",
      "  % (min_groups, self.n_splits)), Warning)\n"
     ]
    },
    {
     "name": "stdout",
     "output_type": "stream",
     "text": [
      "Set 2 Cross Validation Results:\n",
      "[ 0.48087432  0.53551913  0.51912568  0.55248619  0.49444444  0.52513966\n",
      "  0.52513966  0.48314607  0.52542373  0.47457627]\n",
      "Set 3 Cross Validation Results:\n",
      "[ 0.41954023  0.42774566  0.42196532  0.43352601  0.41618497  0.43604651\n",
      "  0.43023256  0.44767442  0.39534884  0.43023256]\n",
      "Set 5 Cross Validation Results:\n",
      "[ 0.3989071   0.42857143  0.41208791  0.40659341  0.41758242  0.43093923\n",
      "  0.42458101  0.41573034  0.40449438  0.42134831]\n",
      "Set 6 Cross Validation Results:\n",
      "[ 0.45901639  0.44262295  0.46703297  0.45        0.45        0.45810056\n",
      "  0.46368715  0.4494382   0.45505618  0.45505618]\n"
     ]
    },
    {
     "name": "stderr",
     "output_type": "stream",
     "text": [
      "/Library/Frameworks/Python.framework/Versions/3.5/lib/python3.5/site-packages/sklearn/model_selection/_split.py:579: Warning: The least populated class in y has only 2 members, which is too few. The minimum number of groups for any class cannot be less than n_splits=10.\n",
      "  % (min_groups, self.n_splits)), Warning)\n"
     ]
    },
    {
     "name": "stdout",
     "output_type": "stream",
     "text": [
      "Set 7 Cross Validation Results:\n",
      "[ 0.24539877  0.25925926  0.25        0.26415094  0.2721519   0.27388535\n",
      "  0.27922078  0.2745098   0.27631579  0.2781457 ]\n"
     ]
    },
    {
     "name": "stderr",
     "output_type": "stream",
     "text": [
      "/Library/Frameworks/Python.framework/Versions/3.5/lib/python3.5/site-packages/sklearn/model_selection/_split.py:579: Warning: The least populated class in y has only 1 members, which is too few. The minimum number of groups for any class cannot be less than n_splits=10.\n",
      "  % (min_groups, self.n_splits)), Warning)\n"
     ]
    },
    {
     "name": "stdout",
     "output_type": "stream",
     "text": [
      "Set 8 Cross Validation Results:\n",
      "[ 0.30120482  0.3125      0.32051282  0.33783784  0.34722222  0.33802817\n",
      "  0.35294118  0.35820896  0.36363636  0.375     ]\n"
     ]
    }
   ],
   "source": [
    "# Do the same for the rest of the essay sets\n",
    "set2_data, set2_scores = get_set_arrays(2)\n",
    "cv_scores2 = cross_val_score(clf, set2_data, set2_scores, cv=10)\n",
    "print(\"Set 2 Cross Validation Results:\")\n",
    "print(cv_scores2)\n",
    "set3_data, set3_scores = get_set_arrays(3)\n",
    "cv_scores3 = cross_val_score(clf, set3_data, set3_scores, cv=10)\n",
    "print(\"Set 3 Cross Validation Results:\")\n",
    "print(cv_scores3)\n",
    "# set 4 has input that is breaking the code\n",
    "#set4_data, set4_scores = get_set_arrays(4)\n",
    "#cv_scores4 = cross_val_score(clf, set4_data, set4_scores, cv=10)\n",
    "#print(\"Set 4 Cross Validation Results:\")\n",
    "#print(cv_scores4)\n",
    "set5_data, set5_scores = get_set_arrays(5)\n",
    "cv_scores5 = cross_val_score(clf, set5_data, set5_scores, cv=10)\n",
    "print(\"Set 5 Cross Validation Results:\")\n",
    "print(cv_scores5)\n",
    "set6_data, set6_scores = get_set_arrays(6)\n",
    "cv_scores6 = cross_val_score(clf, set6_data, set6_scores, cv=10)\n",
    "print(\"Set 6 Cross Validation Results:\")\n",
    "print(cv_scores6)\n",
    "set7_data, set7_scores = get_set_arrays(7)\n",
    "cv_scores7 = cross_val_score(clf, set7_data, set7_scores, cv=10)\n",
    "print(\"Set 7 Cross Validation Results:\")\n",
    "print(cv_scores7)\n",
    "set8_data, set8_scores = get_set_arrays(8)\n",
    "cv_scores8 = cross_val_score(clf, set8_data, set8_scores, cv=10)\n",
    "print(\"Set 8 Cross Validation Results:\")\n",
    "print(cv_scores8)"
   ]
  },
  {
   "cell_type": "markdown",
   "metadata": {},
   "source": [
    "The above was done with just one classifier, and as we tried with more sets it got progressively worse.\n",
    "We probably need to do one classifier for each question set.\n",
    "\n",
    "BELOW: Trying the above again with one classifier per question set"
   ]
  },
  {
   "cell_type": "code",
   "execution_count": 62,
   "metadata": {
    "collapsed": false
   },
   "outputs": [
    {
     "name": "stdout",
     "output_type": "stream",
     "text": [
      "Set 1 Cross Validation Results B:\n",
      "[ 0.53888889  0.53888889  0.52513966  0.51955307  0.50837989  0.51955307\n",
      "  0.52247191  0.53107345  0.53409091  0.51136364]\n"
     ]
    },
    {
     "name": "stderr",
     "output_type": "stream",
     "text": [
      "/Library/Frameworks/Python.framework/Versions/3.5/lib/python3.5/site-packages/sklearn/model_selection/_split.py:579: Warning: The least populated class in y has only 7 members, which is too few. The minimum number of groups for any class cannot be less than n_splits=10.\n",
      "  % (min_groups, self.n_splits)), Warning)\n"
     ]
    },
    {
     "name": "stdout",
     "output_type": "stream",
     "text": [
      "Set 2 Cross Validation Results B:\n",
      "[ 0.48087432  0.53551913  0.51912568  0.55248619  0.49444444  0.52513966\n",
      "  0.52513966  0.48314607  0.52542373  0.47457627]\n",
      "Set 3 Cross Validation Results B:\n",
      "[ 0.41954023  0.42774566  0.42196532  0.43352601  0.41618497  0.43604651\n",
      "  0.43023256  0.44767442  0.39534884  0.43023256]\n",
      "Set 5 Cross Validation Results B:\n",
      "[ 0.3989071   0.42857143  0.41208791  0.40659341  0.41758242  0.43093923\n",
      "  0.42458101  0.41573034  0.40449438  0.42134831]\n",
      "Set 6 Cross Validation Results B:\n",
      "[ 0.45901639  0.44262295  0.46703297  0.45        0.45        0.45810056\n",
      "  0.46368715  0.4494382   0.45505618  0.45505618]\n"
     ]
    },
    {
     "name": "stderr",
     "output_type": "stream",
     "text": [
      "/Library/Frameworks/Python.framework/Versions/3.5/lib/python3.5/site-packages/sklearn/model_selection/_split.py:579: Warning: The least populated class in y has only 2 members, which is too few. The minimum number of groups for any class cannot be less than n_splits=10.\n",
      "  % (min_groups, self.n_splits)), Warning)\n"
     ]
    },
    {
     "name": "stdout",
     "output_type": "stream",
     "text": [
      "Set 7 Cross Validation Results B:\n",
      "[ 0.24539877  0.25925926  0.25        0.26415094  0.2721519   0.27388535\n",
      "  0.27922078  0.2745098   0.27631579  0.2781457 ]\n"
     ]
    },
    {
     "name": "stderr",
     "output_type": "stream",
     "text": [
      "/Library/Frameworks/Python.framework/Versions/3.5/lib/python3.5/site-packages/sklearn/model_selection/_split.py:579: Warning: The least populated class in y has only 1 members, which is too few. The minimum number of groups for any class cannot be less than n_splits=10.\n",
      "  % (min_groups, self.n_splits)), Warning)\n"
     ]
    },
    {
     "name": "stdout",
     "output_type": "stream",
     "text": [
      "Set 8 Cross Validation Results B:\n",
      "[ 0.30120482  0.3125      0.32051282  0.33783784  0.34722222  0.33802817\n",
      "  0.35294118  0.35820896  0.36363636  0.375     ]\n"
     ]
    }
   ],
   "source": [
    "clf1 = svm.SVC()\n",
    "cv_scores1b = cross_val_score(clf1, set1_data, set1_scores, cv=10)\n",
    "print(\"Set 1 Cross Validation Results B:\")\n",
    "print(cv_scores1b)\n",
    "clf2 = svm.SVC()\n",
    "cv_scores2b = cross_val_score(clf2, set2_data, set2_scores, cv=10)\n",
    "print(\"Set 2 Cross Validation Results B:\")\n",
    "print(cv_scores2b)\n",
    "clf3 = svm.SVC()\n",
    "cv_scores3b = cross_val_score(clf3, set3_data, set3_scores, cv=10)\n",
    "print(\"Set 3 Cross Validation Results B:\")\n",
    "print(cv_scores3b)\n",
    "# set 4 has input that is breaking the code\n",
    "#clf4 = svm.SVC()\n",
    "#cv_scores4b = cross_val_score(clf4, set4_data, set4_scores, cv=10)\n",
    "#print(\"Set 4 Cross Validation Results B:\")\n",
    "#print(cv_scores4b)\n",
    "clf5 = svm.SVC()\n",
    "cv_scores5b = cross_val_score(clf5, set5_data, set5_scores, cv=10)\n",
    "print(\"Set 5 Cross Validation Results B:\")\n",
    "print(cv_scores5b)\n",
    "clf6 = svm.SVC()\n",
    "cv_scores6b = cross_val_score(clf6, set6_data, set6_scores, cv=10)\n",
    "print(\"Set 6 Cross Validation Results B:\")\n",
    "print(cv_scores6b)\n",
    "clf7 = svm.SVC()\n",
    "cv_scores7b = cross_val_score(clf7, set7_data, set7_scores, cv=10)\n",
    "print(\"Set 7 Cross Validation Results B:\")\n",
    "print(cv_scores7b)\n",
    "clf8 = svm.SVC()\n",
    "cv_scores8b = cross_val_score(clf8, set8_data, set8_scores, cv=10)\n",
    "print(\"Set 8 Cross Validation Results B:\")\n",
    "print(cv_scores8b)"
   ]
  },
  {
   "cell_type": "markdown",
   "metadata": {},
   "source": [
    "The above didn't seem to improve anything\n",
    "\n",
    "BELOW: Try one classifier on all combined sets (except set 4), still no vocab features"
   ]
  },
  {
   "cell_type": "code",
   "execution_count": 64,
   "metadata": {
    "collapsed": false
   },
   "outputs": [
    {
     "name": "stderr",
     "output_type": "stream",
     "text": [
      "/Library/Frameworks/Python.framework/Versions/3.5/lib/python3.5/site-packages/sklearn/model_selection/_split.py:579: Warning: The least populated class in y has only 1 members, which is too few. The minimum number of groups for any class cannot be less than n_splits=10.\n",
      "  % (min_groups, self.n_splits)), Warning)\n"
     ]
    },
    {
     "name": "stdout",
     "output_type": "stream",
     "text": [
      "All sets Cross Validation Results:\n",
      "[ 0.26079295  0.2462489   0.23914969  0.26311111  0.31875     0.30473637\n",
      "  0.31418312  0.25809353  0.22952295  0.21209386]\n"
     ]
    }
   ],
   "source": [
    "all_sets_data = set1_data + set2_data + set3_data  + set5_data + set6_data + set7_data + set8_data\n",
    "all_sets_scores = set1_scores + set2_scores + set3_scores + set5_scores + set6_scores + set7_scores + set8_scores\n",
    "clf_all = svm.SVC()\n",
    "cv_scores_all = cross_val_score(clf_all, all_sets_data, all_sets_scores, cv=10)\n",
    "print(\"All sets Cross Validation Results:\")\n",
    "print(cv_scores_all)\n"
   ]
  },
  {
   "cell_type": "markdown",
   "metadata": {},
   "source": [
    "Try just running a different way for confusion matrix - DIDN\"T WORK"
   ]
  },
  {
   "cell_type": "code",
   "execution_count": 75,
   "metadata": {
    "collapsed": false
   },
   "outputs": [],
   "source": [
    "clf_cm = svm.SVC()\n",
    "clf_cm.fit(all_sets_data, all_sets_scores)\n",
    "predictions = clf_cm.predict(all_sets_data)\n",
    "cm = confusion_matrix(all_sets_scores, predictions)\n",
    "#print(cm)"
   ]
  },
  {
   "cell_type": "markdown",
   "metadata": {},
   "source": [
    "NOW TRY SHORT ANSWER, SAME THING\n",
    "but using short_combined.py\n",
    "We already have the features from this run on the github, just download and use those files"
   ]
  },
  {
   "cell_type": "code",
   "execution_count": 78,
   "metadata": {
    "collapsed": true
   },
   "outputs": [],
   "source": [
    "# Read all features into data frames\n",
    "set1 = pd.read_csv(\"short_set1.csv\")\n",
    "set2 = pd.read_csv(\"short_set2.csv\")\n",
    "set3 = pd.read_csv(\"short_set3.csv\")\n",
    "set4 = pd.read_csv(\"short_set4.csv\")\n",
    "set5 = pd.read_csv(\"short_set5.csv\")\n",
    "set6 = pd.read_csv(\"short_set6.csv\")\n",
    "set7 = pd.read_csv(\"short_set7.csv\")\n",
    "set8 = pd.read_csv(\"short_set8.csv\")\n",
    "set9 = pd.read_csv(\"short_set9.csv\")\n",
    "set10 = pd.read_csv(\"short_set10.csv\")\n",
    "allsets = pd.read_csv(\"short_allsets.csv\")"
   ]
  },
  {
   "cell_type": "code",
   "execution_count": 101,
   "metadata": {
    "collapsed": false
   },
   "outputs": [],
   "source": [
    "knowledge = pd.concat([set1,set2, set5, set6, set10])\n",
    "english = pd.concat([set3, set4, set7, set8, set9])\n",
    "# put sets into list for easy processing\n",
    "all_data = [set1, set2, set3, set4, set5, set6, set7, set8, set9, set10, allsets, knowledge, english]"
   ]
  },
  {
   "cell_type": "code",
   "execution_count": 103,
   "metadata": {
    "collapsed": false
   },
   "outputs": [],
   "source": [
    "#print(knowledge)"
   ]
  },
  {
   "cell_type": "code",
   "execution_count": 104,
   "metadata": {
    "collapsed": false
   },
   "outputs": [
    {
     "name": "stdout",
     "output_type": "stream",
     "text": [
      "Splitting data for set  1\n",
      "10-fold cross-validation results for set  1\n",
      "[ 0.35714286  0.35119048  0.38690476  0.33928571  0.37724551  0.36526946\n",
      "  0.38323353  0.36526946  0.43712575  0.33333333]\n",
      "Splitting data for set  2\n",
      "10-fold cross-validation results for set  2\n",
      "[ 0.37984496  0.43410853  0.34108527  0.34108527  0.35658915  0.35658915\n",
      "  0.390625    0.36507937  0.384       0.36      ]\n",
      "Splitting data for set  3\n",
      "10-fold cross-validation results for set  3\n",
      "[ 0.52356021  0.52910053  0.52380952  0.52380952  0.52910053  0.52910053\n",
      "  0.52910053  0.52380952  0.52910053  0.52659574]\n",
      "Splitting data for set  4\n",
      "10-fold cross-validation results for set  4\n",
      "[ 0.69142857  0.6         0.63218391  0.70114943  0.64942529  0.6091954\n",
      "  0.65517241  0.71676301  0.68786127  0.63372093]\n",
      "Splitting data for set  5\n",
      "10-fold cross-validation results for set  5\n",
      "[ 0.77472527  0.7679558   0.77777778  0.75        0.78212291  0.76536313\n",
      "  0.77094972  0.77653631  0.78089888  0.76404494]\n",
      "Splitting data for set  6\n",
      "10-fold cross-validation results for set  6\n",
      "[ 0.83516484  0.84444444  0.84444444  0.84444444  0.83888889  0.84357542\n",
      "  0.84357542  0.83798883  0.84357542  0.84357542]\n",
      "Splitting data for set  7\n",
      "10-fold cross-validation results for set  7\n",
      "[ 0.56906077  0.51933702  0.51666667  0.53888889  0.54444444  0.5\n",
      "  0.49444444  0.51666667  0.53072626  0.52247191]\n",
      "Splitting data for set  8\n",
      "10-fold cross-validation results for set  8\n",
      "[ 0.56353591  0.54696133  0.54696133  0.6         0.53333333  0.5\n",
      "  0.52222222  0.53631285  0.59217877  0.55617978]\n",
      "Splitting data for set  9\n",
      "10-fold cross-validation results for set  9\n",
      "[ 0.67032967  0.59340659  0.61666667  0.49444444  0.60335196  0.51396648\n",
      "  0.58659218  0.5698324   0.58100559  0.65363128]\n",
      "Splitting data for set  10\n",
      "10-fold cross-validation results for set  10\n",
      "[ 0.62804878  0.65243902  0.6402439   0.70731707  0.70731707  0.66463415\n",
      "  0.70121951  0.68902439  0.66463415  0.68292683]\n",
      "Splitting data for set  11\n",
      "10-fold cross-validation results for set  11\n",
      "[ 0.36680209  0.43379791  0.58221964  0.59500291  0.59035445  0.58895349\n",
      "  0.54534884  0.43953488  0.42732558  0.47236766]\n",
      "Splitting data for set  12\n",
      "10-fold cross-validation results for set  12\n",
      "[ 0.43239951  0.44634146  0.5304878   0.59462759  0.60220318  0.58506732\n",
      "  0.53977968  0.53488372  0.58261934  0.56793146]\n",
      "Splitting data for set  13\n",
      "10-fold cross-validation results for set  13\n",
      "[ 0.40376106  0.4551495   0.54263566  0.50830565  0.66888151  0.61197339\n",
      "  0.49778271  0.37804878  0.50221729  0.55049945]\n"
     ]
    }
   ],
   "source": [
    "# for each set\n",
    "# please note that set 11 is actually the allsets data\n",
    "# and set 12 is knowledge-based\n",
    "# and set 13 is english-based\n",
    "set_num = 1\n",
    "for s in all_data:\n",
    "    print(\"Splitting data for set \", set_num)\n",
    "    #split into array of scores and array of other features\n",
    "    scores = []\n",
    "    features = []\n",
    "    i = 0\n",
    "    for row in s.itertuples(index=True, name='Pandas'):\n",
    "        scores.append(getattr(row, \"score\"))\n",
    "        features.append([])\n",
    "        features[i].append(getattr(row, \"org_score\"))\n",
    "        features[i].append(getattr(row, \"pos_adjadv\"))\n",
    "        features[i].append(getattr(row, \"pos_noun\"))\n",
    "        features[i].append(getattr(row, \"pos_pronoun\"))\n",
    "        features[i].append(getattr(row, \"pos_verb\"))\n",
    "        features[i].append(getattr(row, \"pos_other\"))\n",
    "        features[i].append(getattr(row, \"pos_nums\"))\n",
    "        features[i].append(getattr(row, \"complex_short\"))\n",
    "        features[i].append(getattr(row, \"complex_medium\"))\n",
    "        features[i].append(getattr(row, \"complex_long\"))\n",
    "        features[i].append(getattr(row, \"vocab_level\"))\n",
    "\n",
    "        i += 1\n",
    "\n",
    "    #cross validation classifying for this set\n",
    "    print(\"10-fold cross-validation results for set \", set_num)\n",
    "    clf = svm.SVC()\n",
    "    cv_scores = cross_val_score(clf, features, scores, cv=10)\n",
    "    print(cv_scores)\n",
    "    \n",
    "    set_num += 1"
   ]
  },
  {
   "cell_type": "code",
   "execution_count": null,
   "metadata": {
    "collapsed": true
   },
   "outputs": [],
   "source": [
    "\n"
   ]
  }
 ],
 "metadata": {
  "kernelspec": {
   "display_name": "Python 3",
   "language": "python",
   "name": "python3"
  },
  "language_info": {
   "codemirror_mode": {
    "name": "ipython",
    "version": 3
   },
   "file_extension": ".py",
   "mimetype": "text/x-python",
   "name": "python",
   "nbconvert_exporter": "python",
   "pygments_lexer": "ipython3",
   "version": "3.5.1"
  }
 },
 "nbformat": 4,
 "nbformat_minor": 1
}
