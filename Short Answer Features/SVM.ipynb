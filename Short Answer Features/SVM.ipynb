{
 "cells": [
  {
   "cell_type": "code",
   "execution_count": 7,
   "metadata": {
    "collapsed": false
   },
   "outputs": [],
   "source": [
    "# required packages\n",
    "import numpy as np\n",
    "import pandas as pd\n",
    "from sklearn import svm\n",
    "from sklearn.model_selection import cross_val_score\n",
    "import scipy as sp\n",
    "import nltk\n",
    "#from combined import combined\n",
    "from sklearn.cross_validation import KFold\n",
    "from sklearn.metrics import confusion_matrix\n",
    "from textstat.textstat import textstat\n",
    "from sklearn.model_selection import train_test_split"
   ]
  },
  {
   "cell_type": "code",
   "execution_count": 14,
   "metadata": {
    "collapsed": true
   },
   "outputs": [],
   "source": [
    "#START HERE - THIS CODE IS FOR TRYING THE CLASSIFIER\n",
    "#read data by set\n",
    "set1 = pd.read_csv(\"short_set_expr1.csv\")\n",
    "set2 = pd.read_csv(\"short_set_expr2.csv\")\n",
    "set3 = pd.read_csv(\"short_set_expr3.csv\")\n",
    "set4 = pd.read_csv(\"short_set_expr3.csv\")\n",
    "set5 = pd.read_csv(\"short_set_expr5.csv\")\n",
    "set6 = pd.read_csv(\"short_set_expr6.csv\")\n",
    "set7 = pd.read_csv(\"short_set_expr7.csv\")\n",
    "set8 = pd.read_csv(\"short_set_expr8.csv\")\n",
    "set9 = pd.read_csv(\"short_set_expr9.csv\")\n",
    "set10 = pd.read_csv(\"short_set_expr10.csv\")"
   ]
  },
  {
   "cell_type": "code",
   "execution_count": 16,
   "metadata": {
    "collapsed": false
   },
   "outputs": [],
   "source": [
    "# put all sets into a list for easy processing\n",
    "all_data = [set1,set2,set3, set4,set5,set6 ,set7, set8, set9,set10]"
   ]
  },
  {
   "cell_type": "code",
   "execution_count": 18,
   "metadata": {
    "collapsed": false
   },
   "outputs": [
    {
     "name": "stdout",
     "output_type": "stream",
     "text": [
      "Splitting data for set  1\n",
      "10-fold cross-validation results for set  1\n",
      "[ 0.45238095  0.39880952  0.44642857  0.49404762  0.46706587  0.43113772\n",
      "  0.46107784  0.41317365  0.49700599  0.41818182]\n",
      "Confusion matrix for set  1\n",
      "[[ 65  33  21   5]\n",
      " [ 35  45  47   8]\n",
      " [ 21  29 108  22]\n",
      " [  5  13  85  10]]\n",
      "Splitting data for set  2\n",
      "10-fold cross-validation results for set  2\n",
      "[ 0.45736434  0.47286822  0.45736434  0.44186047  0.48062016  0.43410853\n",
      "  0.4921875   0.46031746  0.48        0.464     ]\n",
      "Confusion matrix for set  2\n",
      "[[  3  31  14  11]\n",
      " [  1  43  40  13]\n",
      " [  1  22 108  37]\n",
      " [  0  12  63  23]]\n",
      "Splitting data for set  3\n",
      "10-fold cross-validation results for set  3\n",
      "[ 0.65445026  0.61904762  0.61904762  0.62433862  0.62962963  0.63492063\n",
      "  0.65608466  0.66137566  0.63492063  0.64893617]\n",
      "Confusion matrix for set  3\n",
      "[[  7 146   2]\n",
      " [  8 311   6]\n",
      " [  0  77  68]]\n",
      "Splitting data for set  4\n",
      "10-fold cross-validation results for set  4\n",
      "[ 0.65445026  0.61904762  0.61904762  0.62433862  0.62962963  0.63492063\n",
      "  0.65608466  0.66137566  0.63492063  0.64893617]\n",
      "Confusion matrix for set  4\n",
      "[[  7 146   2]\n",
      " [  8 311   6]\n",
      " [  0  77  68]]\n",
      "Splitting data for set  5\n",
      "10-fold cross-validation results for set  5\n",
      "[ 0.75824176  0.79005525  0.80555556  0.76111111  0.77653631  0.79329609\n",
      "  0.78212291  0.78212291  0.78651685  0.80898876]\n",
      "Confusion matrix for set  5\n",
      "[[445  15   0   0]\n",
      " [103  12   0   1]\n",
      " [  6   5   0   0]\n",
      " [  4   2   0   0]]\n",
      "Splitting data for set  6\n",
      "10-fold cross-validation results for set  6\n",
      "[ 0.84065934  0.83333333  0.85        0.83888889  0.85555556  0.84357542\n",
      "  0.84916201  0.8603352   0.84357542  0.84357542]\n",
      "Confusion matrix for set  6\n",
      "[[485   1   0   0]\n",
      " [ 54   3   0   0]\n",
      " [ 29   0   0   0]\n",
      " [ 21   1   0   0]]\n",
      "Splitting data for set  7\n",
      "10-fold cross-validation results for set  7\n",
      "[ 0.6519337   0.63535912  0.63888889  0.57777778  0.6         0.6\n",
      "  0.60555556  0.6         0.59776536  0.57865169]\n",
      "Confusion matrix for set  7\n",
      "[[287  25   8]\n",
      " [112  10   8]\n",
      " [ 84  13  47]]\n",
      "Splitting data for set  8\n",
      "10-fold cross-validation results for set  8\n",
      "[ 0.66298343  0.60773481  0.62983425  0.74444444  0.62777778  0.64444444\n",
      "  0.65        0.59217877  0.69832402  0.62921348]\n",
      "Confusion matrix for set  8\n",
      "[[ 90  54  33]\n",
      " [ 61  43  45]\n",
      " [ 14   9 245]]\n",
      "Splitting data for set  9\n",
      "10-fold cross-validation results for set  9\n",
      "[ 0.71978022  0.65384615  0.71111111  0.58888889  0.69832402  0.64804469\n",
      "  0.6424581   0.67597765  0.64804469  0.69832402]\n",
      "Confusion matrix for set  9\n",
      "[[ 61  78  11]\n",
      " [ 32 154  52]\n",
      " [  2  42 162]]\n",
      "Splitting data for set  10\n",
      "10-fold cross-validation results for set  10\n",
      "[ 0.70731707  0.72560976  0.70731707  0.74390244  0.72560976  0.7195122\n",
      "  0.73170732  0.72560976  0.67682927  0.73780488]\n",
      "Confusion matrix for set  10\n",
      "[[  8  66  12]\n",
      " [ 11 192  67]\n",
      " [  0  31 155]]\n"
     ]
    }
   ],
   "source": [
    "# for each set, get an array of features and an array of scores, and input these to classifier\n",
    "set_num = 0\n",
    "set_array = [1,2,3,4,5,6,7,8,9,10] #number of each set in the all_data list\n",
    "for s in all_data:\n",
    "    print(\"Splitting data for set \", set_array[set_num])\n",
    "    #split into array of scores and array of other features\n",
    "    scores = []\n",
    "    features = []\n",
    "    i = 0\n",
    "    for row in s.itertuples(index=True, name='Pandas'):\n",
    "        scores.append(getattr(row, \"score\"))\n",
    "        features.append([])\n",
    "        features[i].append(getattr(row, \"org_score\"))\n",
    "        features[i].append(getattr(row, \"pos_adjadv\"))\n",
    "        features[i].append(getattr(row, \"pos_noun\"))\n",
    "        features[i].append(getattr(row, \"pos_pronoun\"))\n",
    "        features[i].append(getattr(row, \"pos_verb\"))\n",
    "        features[i].append(getattr(row, \"pos_other\"))\n",
    "        features[i].append(getattr(row, \"pos_nums\"))\n",
    "        features[i].append(getattr(row, \"complex_short\"))\n",
    "        features[i].append(getattr(row, \"complex_medium\"))\n",
    "        features[i].append(getattr(row, \"complex_long\"))\n",
    "        features[i].append(getattr(row, \"vocab_level\"))\n",
    "        features[i].append(getattr(row, \"pred_score\"))\n",
    "        features[i].append(getattr(row, \"prompt_relevence\"))\n",
    "        features[i].append(getattr(row, \"total_length\"))\n",
    "        #we get better results without the last two features\n",
    "        #note that prompt_relevEnce is misspelled\n",
    "\n",
    "        i += 1\n",
    "\n",
    "    #cross validation classifying for this set\n",
    "    print(\"10-fold cross-validation results for set \", set_array[set_num])\n",
    "    clf = svm.SVC()\n",
    "    cv_scores = cross_val_score(clf, features, scores, cv=10)\n",
    "    print(cv_scores)\n",
    "    print(\"Confusion matrix for set \", set_array[set_num])\n",
    "    clf2 = svm.SVC()\n",
    "    X_train, X_test, y_train, y_test = train_test_split(features, scores, test_size=0.33, random_state=42)\n",
    "    y_pred = clf2.fit(X_train, y_train).predict(X_test)\n",
    "    cnf_matrix = confusion_matrix(y_test, y_pred)\n",
    "    print(cnf_matrix)\n",
    "    \n",
    "    set_num += 1"
   ]
  },
  {
   "cell_type": "code",
   "execution_count": null,
   "metadata": {
    "collapsed": true
   },
   "outputs": [],
   "source": []
  }
 ],
 "metadata": {
  "kernelspec": {
   "display_name": "Python [default]",
   "language": "python",
   "name": "python3"
  },
  "language_info": {
   "codemirror_mode": {
    "name": "ipython",
    "version": 3
   },
   "file_extension": ".py",
   "mimetype": "text/x-python",
   "name": "python",
   "nbconvert_exporter": "python",
   "pygments_lexer": "ipython3",
   "version": "3.5.2"
  }
 },
 "nbformat": 4,
 "nbformat_minor": 1
}
